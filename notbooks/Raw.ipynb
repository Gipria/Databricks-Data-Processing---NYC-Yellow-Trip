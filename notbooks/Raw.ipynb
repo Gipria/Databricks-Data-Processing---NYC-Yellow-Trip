{
 "cells": [
  {
   "cell_type": "code",
   "execution_count": 0,
   "metadata": {
    "application/vnd.databricks.v1+cell": {
     "cellMetadata": {
      "byteLimit": 2048000,
      "rowLimit": 10000
     },
     "inputWidgets": {},
     "nuid": "b2a5ea7d-5f0c-4fa0-b510-fb49786352e6",
     "showTitle": false,
     "tableResultSettingsMap": {},
     "title": ""
    }
   },
   "outputs": [],
   "source": [
    "from functools import reduce\n",
    "\n",
    "months = [\"2023_01\", \"2023_02\", \"2023_03\", \"2023_04\"]\n",
    "\n",
    "dfs = [spark.table(f\"default.yellow_tripdata_{m}\") for m in months]\n",
    "raw_df = reduce(lambda df1, df2: df1.unionByName(df2), dfs)\n",
    "\n",
    "raw_df.write.format(\"delta\").mode(\"overwrite\").saveAsTable(\"yellow_trip_raw\")"
   ]
  }
 ],
 "metadata": {
  "application/vnd.databricks.v1+notebook": {
   "computePreferences": null,
   "dashboards": [],
   "environmentMetadata": {
    "base_environment": "",
    "environment_version": "3"
   },
   "inputWidgetPreferences": null,
   "language": "python",
   "notebookMetadata": {
    "pythonIndentUnit": 4
   },
   "notebookName": "Raw",
   "widgets": {}
  },
  "language_info": {
   "name": "python"
  }
 },
 "nbformat": 4,
 "nbformat_minor": 0
}